{
 "cells": [
  {
   "cell_type": "code",
   "execution_count": null,
   "id": "e1345b1b-071b-4853-b6d0-c732fd2284a8",
   "metadata": {
    "tags": []
   },
   "outputs": [],
   "source": [
    "import numpy as np\n",
    "import pandas as pd\n",
    "import statsmodels.api as sm"
   ]
  },
  {
   "cell_type": "code",
   "execution_count": null,
   "id": "22f46665-c9f0-40d0-97fb-55c11a0060e2",
   "metadata": {
    "tags": []
   },
   "outputs": [],
   "source": [
    "df = pd.read_csv('insurance_data.csv')\n",
    "df.info()"
   ]
  },
  {
   "cell_type": "code",
   "execution_count": null,
   "id": "479584e7-c40f-4b18-8da1-fcdb0cd72f65",
   "metadata": {},
   "outputs": [],
   "source": [
    "# comments:\n",
    "# (1) there is a small amount of rows with missing values - they can be dropped\n",
    "# (2) you may want to maake use of https://pandas.pydata.org/docs/reference/api/pandas.get_dummies.html\n",
    "# (3) perform all your computations (solve the task) before the questions part, in a complete, clear and effective manner\n",
    "# (4) the questions part only print answers based on your solution"
   ]
  },
  {
   "cell_type": "markdown",
   "id": "84c0f7a8-7075-478d-84a3-513e2569ade9",
   "metadata": {},
   "source": [
    "#### computations"
   ]
  },
  {
   "cell_type": "code",
   "execution_count": null,
   "id": "c4c423e0-152e-4ddd-82bb-1d2c5e1cd2ce",
   "metadata": {
    "scrolled": true
   },
   "outputs": [],
   "source": [
    "from sklearn.preprocessing import StandardScaler\n",
    "\n",
    "# Drop rows with missing values\n",
    "df = df.dropna()\n",
    "\n",
    "# This function calculates pearson's correlation beetween two predictors\n",
    "def calc_pearsons_corr(df, pair):\n",
    "    return df[pair[0]].corr(df[pair[1]])\n",
    "\n",
    "# checking for multi_collinearity\n",
    "pair_list = [['age', 'weight'], ['age', 'bmi'], ['age', 'children'], ['bmi', 'weight'], ['bmi', 'children'], ['weight', 'children']]\n",
    "\n",
    "for pair in pair_list:\n",
    "    print(calc_pearsons_corr(df, pair))\n",
    "    \n",
    "print()\n",
    "print()\n",
    "print()\n",
    "\n",
    "if calc_pearsons_corr(df, ['weight', 'expenses']) > calc_pearsons_corr(df, ['bmi', 'expenses']):\n",
    "    # Remomve bmi predictor from the data\n",
    "    df = df.drop(columns = ['bmi'])\n",
    "else:                    \n",
    "    # Remomve weight predictor from the data\n",
    "    df = df.drop(columns = ['weight'])\n",
    "\n",
    "\n",
    "# Perform one-hot encoding for 'gender' and 'smoker' columns\n",
    "# Drop 'gender_female' and 'smoker_no' to avoid multi-collinearity\n",
    "df_encoded = pd.get_dummies(df, columns=['gender', 'smoker'], drop_first=True, dtype=int)\n",
    "\n",
    "# Define the predictors and the dependent variable\n",
    "x = df_encoded[['age', 'bmi', 'children', 'gender_male', 'smoker_yes']]\n",
    "y = df_encoded['expenses']\n",
    "\n",
    "x = sm.add_constant(x) # Adding the intercept (b_0)\n",
    "model = sm.OLS(y, x) # Ordinary least squares (training regime)\n",
    "result = model.fit() # Model training (computing coefficients)\n",
    "\n",
    "print(result.summary())\n",
    "\n",
    "# Define the columns to be scaled\n",
    "columns_to_scale = ['age', 'bmi', 'children', 'gender_male', 'smoker_yes']\n",
    "\n",
    "# Create a temporary DataFrame with the columns to scale\n",
    "tmp_df = df_encoded[columns_to_scale]\n",
    "\n",
    "# Initialize the StandardScaler\n",
    "scaler = StandardScaler()\n",
    "scaler.fit(tmp_df)\n",
    "\n",
    "# Transform the predictors\n",
    "predictors_scaled = scaler.transform(tmp_df)\n",
    "\n",
    "# Create a DataFrame with the scaled predictors\n",
    "df_scaled = pd.DataFrame(predictors_scaled, columns=['age_scaled', 'bmi_scaled', 'children_scaled', 'gender_male_scaled', 'smoker_yes_scaled'])\n",
    "\n",
    "# Check for missing values in the scaled DataFrame\n",
    "if df_scaled.isnull().values.any():\n",
    "    print(\"Scaled DataFrame contains missing values. Investigate further.\")\n",
    "\n",
    "# Reset index to ensure alignment\n",
    "df_scaled = df_scaled.reset_index(drop=True)\n",
    "df_encoded = df_encoded.reset_index(drop=True)\n",
    "\n",
    "# Define the predictors and the dependent variable\n",
    "x = df_scaled\n",
    "y = df_encoded['expenses']\n",
    "\n",
    "x = sm.add_constant(x)\n",
    "\n",
    "model = sm.OLS(y, x)\n",
    "result = model.fit()\n",
    "\n",
    "print(result.summary())"
   ]
  },
  {
   "cell_type": "markdown",
   "id": "5fdc46eb-6745-496b-9f05-25da4f07fdb4",
   "metadata": {},
   "source": [
    "#### Questions (answer the quesitons, all computations should precede this part)"
   ]
  },
  {
   "cell_type": "markdown",
   "id": "3bf55d3b-5ab0-4a85-907a-265890678f32",
   "metadata": {},
   "source": [
    "#### Question 1"
   ]
  },
  {
   "cell_type": "code",
   "execution_count": null,
   "id": "0e334107-1631-4a06-a27f-74cfe0c64bea",
   "metadata": {},
   "outputs": [],
   "source": [
    "# did you remove any numerical predictor from the data?\n",
    "# if no - why, if yes - how did you decide on the predictor to remove?\n",
    "# print a short (one-sentence) answer using the print() command"
   ]
  },
  {
   "cell_type": "markdown",
   "id": "a0d6d30d-3eec-4c90-9f93-ade00d06d312",
   "metadata": {},
   "source": [
    "#### Question 1 - solution:"
   ]
  },
  {
   "cell_type": "code",
   "execution_count": null,
   "id": "4f7357a1-65b2-4f7e-b518-d92c50e8798f",
   "metadata": {},
   "outputs": [],
   "source": [
    "print(\"I decided to remove the weight predictor from the data to avoid multi-collinearity, as it is highly correlated with BMI. Additionally, BMI has a stronger linear relationship with the dependent variable (medical expenses) than weight does.\")"
   ]
  },
  {
   "cell_type": "markdown",
   "id": "e8dcf249-0a7a-48e6-81dc-b8ffb578f286",
   "metadata": {},
   "source": [
    "#### Question 2"
   ]
  },
  {
   "cell_type": "code",
   "execution_count": null,
   "id": "aa4e2e3a-40af-41e6-a93f-c52c08e6d8c8",
   "metadata": {},
   "outputs": [],
   "source": [
    "# what is the amount of money a person is likely to spend on medical expenses with each additional year of age?\n",
    "# write here the value itself (hardcoded) based on your solution above\n",
    "# display your answer as a dataframe (as in assignment 2)"
   ]
  },
  {
   "cell_type": "markdown",
   "id": "b0f517f6-a899-43a2-b17f-c69bac83f66a",
   "metadata": {},
   "source": [
    "#### Question 2 - solution:"
   ]
  },
  {
   "cell_type": "code",
   "execution_count": null,
   "id": "7db4b5de-fd60-4b16-91af-bfe9d6a6754f",
   "metadata": {},
   "outputs": [],
   "source": [
    "result = {'The amount of money a person is likely to spend on medical expenses each additional year of age': ['258.5421']}\n",
    "result_df = pd.DataFrame(result)\n",
    "result_df"
   ]
  },
  {
   "cell_type": "markdown",
   "id": "bbc895f4-027e-47f9-b864-03ac5f0c7115",
   "metadata": {},
   "source": [
    "#### Question 3"
   ]
  },
  {
   "cell_type": "code",
   "execution_count": null,
   "id": "a2f20dcd-e1d1-4bdb-80ec-95ec821dd540",
   "metadata": {},
   "outputs": [],
   "source": [
    "# what predictors have a significant contribution to the medical expenses amount?\n",
    "# report only signifnicant (P<0.05) predictors sorted by their contribution to the prediction from highest to lowest,\n",
    "# where for each predictor you specify if it has a positive or a negative effect on the medical expenses\n",
    "\n",
    "# for categorical variables - specify the effect of individual values that appear signfnicant (e.g., \"smoker-yes\", \"smoker-no\")\n",
    "\n",
    "# display your answer as a dataframe with two columns: (1) predictor, (2) effect (positive or negative)\n",
    "# no need to include the constant (b_0) value"
   ]
  },
  {
   "cell_type": "code",
   "execution_count": null,
   "id": "fb7d30fe-d179-4ce1-9b02-49305499ca77",
   "metadata": {},
   "outputs": [],
   "source": [
    "# Create a dictionary with the data\n",
    "data = {\n",
    "    'predictor': ['smoker_yes', 'age', 'bmi', 'children'],\n",
    "    'effect': ['positive', 'positive', 'positive', 'positive']\n",
    "}\n",
    "\n",
    "# Create the DataFrame\n",
    "new_df = pd.DataFrame(data)\n",
    "\n",
    "# Display the DataFrame\n",
    "new_df"
   ]
  }
 ],
 "metadata": {
  "kernelspec": {
   "display_name": "Python 3 (ipykernel)",
   "language": "python",
   "name": "python3"
  },
  "language_info": {
   "codemirror_mode": {
    "name": "ipython",
    "version": 3
   },
   "file_extension": ".py",
   "mimetype": "text/x-python",
   "name": "python",
   "nbconvert_exporter": "python",
   "pygments_lexer": "ipython3",
   "version": "3.11.7"
  }
 },
 "nbformat": 4,
 "nbformat_minor": 5
}
